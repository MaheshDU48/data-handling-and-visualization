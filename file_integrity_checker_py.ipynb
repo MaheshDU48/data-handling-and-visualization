{
  "nbformat": 4,
  "nbformat_minor": 0,
  "metadata": {
    "colab": {
      "provenance": [],
      "authorship_tag": "ABX9TyOtZ0ElJzKCwEH6r7UUAIfv",
      "include_colab_link": true
    },
    "kernelspec": {
      "name": "python3",
      "display_name": "Python 3"
    },
    "language_info": {
      "name": "python"
    }
  },
  "cells": [
    {
      "cell_type": "markdown",
      "metadata": {
        "id": "view-in-github",
        "colab_type": "text"
      },
      "source": [
        "<a href=\"https://colab.research.google.com/github/MaheshDU48/data-handling-and-visualization/blob/main/file_integrity_checker_py.ipynb\" target=\"_parent\"><img src=\"https://colab.research.google.com/assets/colab-badge.svg\" alt=\"Open In Colab\"/></a>"
      ]
    },
    {
      "cell_type": "code",
      "execution_count": 3,
      "metadata": {
        "colab": {
          "base_uri": "https://localhost:8080/"
        },
        "outputId": "373f3105-046c-4f89-9880-64fcdb39a122",
        "id": "q-nRvhkR7ZX6"
      },
      "outputs": [
        {
          "output_type": "stream",
          "name": "stdout",
          "text": [
            "Initial memory usage: 114.73 MB\n",
            "Total files to be scanned: 0\n",
            "\n",
            "Finished processing. Total files processed: 0\n",
            "Number of hashes used for comparison: 12\n",
            "Time taken: 0.00 seconds\n",
            "No matching hashes found.\n"
          ]
        }
      ],
      "source": [
        "import os, time, sys\n",
        "import hashlib\n",
        "import psutil\n",
        "\n",
        "process = psutil.Process(os.getpid())\n",
        "\n",
        "def md5(fname):\n",
        "    hash_md5 = hashlib.md5()\n",
        "    try:\n",
        "        with open(fname, \"rb\") as f:\n",
        "            chunk_size = 4096\n",
        "            while chunk := f.read(chunk_size):\n",
        "                hash_md5.update(chunk)\n",
        "        return hash_md5.hexdigest()\n",
        "    except PermissionError:\n",
        "        print(f\"Permission denied for file {fname}\", flush=True)\n",
        "    except FileNotFoundError:\n",
        "        print(f\"File not found: {fname}\", flush=True)\n",
        "    except IOError as e:\n",
        "        print(f\"I/O error({e.errno}) for file {fname}: {e.strerror}\", flush=True)\n",
        "    except Exception as e:\n",
        "        print(f\"Error processing file {fname}: {e}\", flush=True)\n",
        "    return None\n",
        "\n",
        "def get_memory_usage():\n",
        "    memory_info = process.memory_info()\n",
        "    memory_used_mb = memory_info.rss / 1024 / 1024\n",
        "    return memory_used_mb\n",
        "\n",
        "\n",
        "def walk_and_check_hashes(directory, hash_file_path):\n",
        "    hash_set = set()\n",
        "    files_processed = 0\n",
        "    total_files = 0\n",
        "    found_match = False\n",
        "\n",
        "    initial_usage = get_memory_usage()\n",
        "    print(f\"Initial memory usage: {initial_usage:.2f} MB\")\n",
        "\n",
        "\n",
        "    start_time = time.time()\n",
        "\n",
        "    try:\n",
        "        with open(hash_file_path, 'r') as hash_file:\n",
        "            for line in hash_file:\n",
        "                hash_set.add(line.strip())\n",
        "    except Exception as e:\n",
        "        print(f\"Error loading hash file: {e}\", flush=True)\n",
        "        return\n",
        "\n",
        "    for root, dirs, files in os.walk(directory):\n",
        "        total_files += len(files)\n",
        "\n",
        "    print(f\"Total files to be scanned: {total_files}\")\n",
        "\n",
        "\n",
        "    for root, dirs, files in os.walk(directory):\n",
        "        for name in files:\n",
        "\n",
        "            current_usage = get_memory_usage()\n",
        "            if current_usage > MEMORY_THRESHOLD_MB:\n",
        "                print(f\"\\nWarning: High memory usage detected - {current_usage:.2f} MB\")\n",
        "\n",
        "            file_path = os.path.join(root, name)\n",
        "            file_hash = md5(file_path)\n",
        "\n",
        "            if file_hash in hash_set:\n",
        "                print(f\"\\033[91mHash match found for {file_path}\\033[0m\", flush=True)\n",
        "                found_match = True\n",
        "\n",
        "            files_processed += 1\n",
        "            if files_processed % 10 == 0:\n",
        "                print(f\"\\rProcessed {files_processed} files...\", flush=True)\n",
        "\n",
        "    end_time = time.time()\n",
        "    elapsed_time = end_time - start_time\n",
        "\n",
        "    print(f\"\\nFinished processing. Total files processed: {files_processed}\")\n",
        "    print(f\"Number of hashes used for comparison: {len(hash_set)}\")\n",
        "    print(f\"Time taken: {elapsed_time:.2f} seconds\")\n",
        "\n",
        "    if not found_match:\n",
        "        print(\"No matching hashes found.\")\n",
        "\n",
        "\n",
        "if __name__ == \"__main__\":\n",
        "    if len(sys.argv) < 3:\n",
        "        print(\"Usage: <script> <directory_to_scan> <hash_file_path>\")\n",
        "    else:\n",
        "        directory_to_scan = sys.argv[1]\n",
        "        hash_file_path = sys.argv[2]\n",
        "        MEMORY_THRESHOLD_MB = 300\n",
        "        walk_and_check_hashes(directory_to_scan, hash_file_path)\n",
        "\n"
      ]
    }
  ]
}